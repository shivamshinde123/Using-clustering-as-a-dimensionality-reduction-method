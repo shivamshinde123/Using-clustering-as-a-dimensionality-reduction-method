{
 "cells": [
  {
   "cell_type": "code",
   "execution_count": 1,
   "id": "e646d480",
   "metadata": {},
   "outputs": [],
   "source": [
    "## necessary imports \n",
    "import numpy as np\n",
    "import pandas as pd\n",
    "import matplotlib.pyplot as plt"
   ]
  },
  {
   "cell_type": "code",
   "execution_count": 2,
   "id": "aecf79c5",
   "metadata": {},
   "outputs": [],
   "source": [
    "## reading the dataset\n",
    "df1 = pd.read_csv('iris.csv')"
   ]
  },
  {
   "cell_type": "code",
   "execution_count": 3,
   "id": "f0c477c8",
   "metadata": {},
   "outputs": [
    {
     "data": {
      "text/html": [
       "<div>\n",
       "<style scoped>\n",
       "    .dataframe tbody tr th:only-of-type {\n",
       "        vertical-align: middle;\n",
       "    }\n",
       "\n",
       "    .dataframe tbody tr th {\n",
       "        vertical-align: top;\n",
       "    }\n",
       "\n",
       "    .dataframe thead th {\n",
       "        text-align: right;\n",
       "    }\n",
       "</style>\n",
       "<table border=\"1\" class=\"dataframe\">\n",
       "  <thead>\n",
       "    <tr style=\"text-align: right;\">\n",
       "      <th></th>\n",
       "      <th>Id</th>\n",
       "      <th>SepalLengthCm</th>\n",
       "      <th>SepalWidthCm</th>\n",
       "      <th>PetalLengthCm</th>\n",
       "      <th>PetalWidthCm</th>\n",
       "      <th>Species</th>\n",
       "    </tr>\n",
       "  </thead>\n",
       "  <tbody>\n",
       "    <tr>\n",
       "      <th>0</th>\n",
       "      <td>1</td>\n",
       "      <td>5.1</td>\n",
       "      <td>3.5</td>\n",
       "      <td>1.4</td>\n",
       "      <td>0.2</td>\n",
       "      <td>Iris-setosa</td>\n",
       "    </tr>\n",
       "    <tr>\n",
       "      <th>1</th>\n",
       "      <td>2</td>\n",
       "      <td>4.9</td>\n",
       "      <td>3.0</td>\n",
       "      <td>1.4</td>\n",
       "      <td>0.2</td>\n",
       "      <td>Iris-setosa</td>\n",
       "    </tr>\n",
       "    <tr>\n",
       "      <th>2</th>\n",
       "      <td>3</td>\n",
       "      <td>4.7</td>\n",
       "      <td>3.2</td>\n",
       "      <td>1.3</td>\n",
       "      <td>0.2</td>\n",
       "      <td>Iris-setosa</td>\n",
       "    </tr>\n",
       "    <tr>\n",
       "      <th>3</th>\n",
       "      <td>4</td>\n",
       "      <td>4.6</td>\n",
       "      <td>3.1</td>\n",
       "      <td>1.5</td>\n",
       "      <td>0.2</td>\n",
       "      <td>Iris-setosa</td>\n",
       "    </tr>\n",
       "    <tr>\n",
       "      <th>4</th>\n",
       "      <td>5</td>\n",
       "      <td>5.0</td>\n",
       "      <td>3.6</td>\n",
       "      <td>1.4</td>\n",
       "      <td>0.2</td>\n",
       "      <td>Iris-setosa</td>\n",
       "    </tr>\n",
       "  </tbody>\n",
       "</table>\n",
       "</div>"
      ],
      "text/plain": [
       "   Id  SepalLengthCm  SepalWidthCm  PetalLengthCm  PetalWidthCm      Species\n",
       "0   1            5.1           3.5            1.4           0.2  Iris-setosa\n",
       "1   2            4.9           3.0            1.4           0.2  Iris-setosa\n",
       "2   3            4.7           3.2            1.3           0.2  Iris-setosa\n",
       "3   4            4.6           3.1            1.5           0.2  Iris-setosa\n",
       "4   5            5.0           3.6            1.4           0.2  Iris-setosa"
      ]
     },
     "execution_count": 3,
     "metadata": {},
     "output_type": "execute_result"
    }
   ],
   "source": [
    "df1.head()"
   ]
  },
  {
   "cell_type": "code",
   "execution_count": 4,
   "id": "146276b1",
   "metadata": {},
   "outputs": [],
   "source": [
    "df1.drop('Id',axis=1,inplace=True)"
   ]
  },
  {
   "cell_type": "code",
   "execution_count": 5,
   "id": "2b335f7f",
   "metadata": {},
   "outputs": [
    {
     "data": {
      "text/html": [
       "<div>\n",
       "<style scoped>\n",
       "    .dataframe tbody tr th:only-of-type {\n",
       "        vertical-align: middle;\n",
       "    }\n",
       "\n",
       "    .dataframe tbody tr th {\n",
       "        vertical-align: top;\n",
       "    }\n",
       "\n",
       "    .dataframe thead th {\n",
       "        text-align: right;\n",
       "    }\n",
       "</style>\n",
       "<table border=\"1\" class=\"dataframe\">\n",
       "  <thead>\n",
       "    <tr style=\"text-align: right;\">\n",
       "      <th></th>\n",
       "      <th>SepalLengthCm</th>\n",
       "      <th>SepalWidthCm</th>\n",
       "      <th>PetalLengthCm</th>\n",
       "      <th>PetalWidthCm</th>\n",
       "      <th>Species</th>\n",
       "    </tr>\n",
       "  </thead>\n",
       "  <tbody>\n",
       "    <tr>\n",
       "      <th>0</th>\n",
       "      <td>5.1</td>\n",
       "      <td>3.5</td>\n",
       "      <td>1.4</td>\n",
       "      <td>0.2</td>\n",
       "      <td>Iris-setosa</td>\n",
       "    </tr>\n",
       "    <tr>\n",
       "      <th>1</th>\n",
       "      <td>4.9</td>\n",
       "      <td>3.0</td>\n",
       "      <td>1.4</td>\n",
       "      <td>0.2</td>\n",
       "      <td>Iris-setosa</td>\n",
       "    </tr>\n",
       "    <tr>\n",
       "      <th>2</th>\n",
       "      <td>4.7</td>\n",
       "      <td>3.2</td>\n",
       "      <td>1.3</td>\n",
       "      <td>0.2</td>\n",
       "      <td>Iris-setosa</td>\n",
       "    </tr>\n",
       "    <tr>\n",
       "      <th>3</th>\n",
       "      <td>4.6</td>\n",
       "      <td>3.1</td>\n",
       "      <td>1.5</td>\n",
       "      <td>0.2</td>\n",
       "      <td>Iris-setosa</td>\n",
       "    </tr>\n",
       "    <tr>\n",
       "      <th>4</th>\n",
       "      <td>5.0</td>\n",
       "      <td>3.6</td>\n",
       "      <td>1.4</td>\n",
       "      <td>0.2</td>\n",
       "      <td>Iris-setosa</td>\n",
       "    </tr>\n",
       "  </tbody>\n",
       "</table>\n",
       "</div>"
      ],
      "text/plain": [
       "   SepalLengthCm  SepalWidthCm  PetalLengthCm  PetalWidthCm      Species\n",
       "0            5.1           3.5            1.4           0.2  Iris-setosa\n",
       "1            4.9           3.0            1.4           0.2  Iris-setosa\n",
       "2            4.7           3.2            1.3           0.2  Iris-setosa\n",
       "3            4.6           3.1            1.5           0.2  Iris-setosa\n",
       "4            5.0           3.6            1.4           0.2  Iris-setosa"
      ]
     },
     "execution_count": 5,
     "metadata": {},
     "output_type": "execute_result"
    }
   ],
   "source": [
    "df1.head()"
   ]
  },
  {
   "cell_type": "code",
   "execution_count": 6,
   "id": "5b61d5c3",
   "metadata": {},
   "outputs": [],
   "source": [
    "# ## encoding the Species feature column\n",
    "# d = dict()\n",
    "# d['Iris-setosa'] = 0\n",
    "# d['Iris-virginica'] = 1\n",
    "# d['Iris-versicolor'] = 2\n",
    "\n",
    "# df1['Species'] = df1['Species'].map(d)"
   ]
  },
  {
   "cell_type": "code",
   "execution_count": 7,
   "id": "bf3a0904",
   "metadata": {},
   "outputs": [],
   "source": [
    "# df1.head()"
   ]
  },
  {
   "cell_type": "code",
   "execution_count": 8,
   "id": "471f7eec",
   "metadata": {},
   "outputs": [],
   "source": [
    "X = df1.drop('Species',axis=1)\n",
    "y = df1['Species']"
   ]
  },
  {
   "cell_type": "code",
   "execution_count": 9,
   "id": "fc6f099b",
   "metadata": {},
   "outputs": [],
   "source": [
    "from sklearn.model_selection import train_test_split\n",
    "\n",
    "X_train, X_test, y_train, y_test = train_test_split(X, y,random_state=238, test_size=0.33)"
   ]
  },
  {
   "cell_type": "code",
   "execution_count": 10,
   "id": "bc40495f",
   "metadata": {},
   "outputs": [
    {
     "data": {
      "text/plain": [
       "RandomForestClassifier(max_depth=3, n_estimators=250, n_jobs=-1)"
      ]
     },
     "execution_count": 10,
     "metadata": {},
     "output_type": "execute_result"
    }
   ],
   "source": [
    "## let's first train the model directly without using any dimensionality reduction technique\n",
    "## here let's use the random forest classifier model for the training\n",
    "\n",
    "from sklearn.ensemble import RandomForestClassifier\n",
    "\n",
    "rfc = RandomForestClassifier(n_estimators=250,n_jobs=-1,max_depth=3)\n",
    "rfc.fit(X_train, y_train)"
   ]
  },
  {
   "cell_type": "code",
   "execution_count": 11,
   "id": "6f9deba1",
   "metadata": {},
   "outputs": [
    {
     "name": "stdout",
     "output_type": "stream",
     "text": [
      "['Iris-setosa' 'Iris-virginica' 'Iris-versicolor' 'Iris-setosa'\n",
      " 'Iris-versicolor' 'Iris-setosa' 'Iris-virginica' 'Iris-setosa'\n",
      " 'Iris-virginica' 'Iris-versicolor' 'Iris-setosa' 'Iris-versicolor'\n",
      " 'Iris-virginica' 'Iris-virginica' 'Iris-virginica' 'Iris-setosa'\n",
      " 'Iris-setosa' 'Iris-virginica' 'Iris-virginica' 'Iris-virginica'\n",
      " 'Iris-setosa' 'Iris-virginica' 'Iris-setosa' 'Iris-virginica'\n",
      " 'Iris-versicolor' 'Iris-virginica' 'Iris-virginica' 'Iris-versicolor'\n",
      " 'Iris-setosa' 'Iris-versicolor' 'Iris-virginica' 'Iris-setosa'\n",
      " 'Iris-setosa' 'Iris-setosa' 'Iris-setosa' 'Iris-virginica' 'Iris-setosa'\n",
      " 'Iris-virginica' 'Iris-versicolor' 'Iris-versicolor' 'Iris-virginica'\n",
      " 'Iris-virginica' 'Iris-versicolor' 'Iris-versicolor' 'Iris-virginica'\n",
      " 'Iris-virginica' 'Iris-setosa' 'Iris-versicolor' 'Iris-versicolor'\n",
      " 'Iris-versicolor']\n"
     ]
    }
   ],
   "source": [
    "rfc_predictions = rfc.predict(X_test)\n",
    "print(rfc_predictions)"
   ]
  },
  {
   "cell_type": "code",
   "execution_count": 14,
   "id": "616530d4",
   "metadata": {},
   "outputs": [
    {
     "name": "stdout",
     "output_type": "stream",
     "text": [
      "Confusion Matrix for the model created before applying any kind of dimensionality reduction method:\n",
      "\n"
     ]
    },
    {
     "data": {
      "text/plain": [
       "array([[16,  0,  0],\n",
       "       [ 0, 14,  1],\n",
       "       [ 0,  0, 19]], dtype=int64)"
      ]
     },
     "execution_count": 14,
     "metadata": {},
     "output_type": "execute_result"
    }
   ],
   "source": [
    "## checking the confusion matrix of the predictions\n",
    "from sklearn.metrics import confusion_matrix\n",
    "\n",
    "matrix = confusion_matrix(y_test, rfc_predictions)\n",
    "print(\"Confusion Matrix for the model created before applying any kind of dimensionality reduction method:\\n\")\n",
    "confusion_matrix(y_test,rfc_predictions, labels = df1['Species'].unique())"
   ]
  },
  {
   "cell_type": "markdown",
   "id": "a2c9451b",
   "metadata": {},
   "source": [
    "## Using the clustering as a dimesionality reduction method"
   ]
  },
  {
   "cell_type": "markdown",
   "id": "59f0d6dc",
   "metadata": {},
   "source": [
    "**Once the dataset has been clustered, it is usually possible to measure each instance's affinity with each cluster (Affinity is  any measure of how well an instance fits into a cluster). Each instace's feature vector x can then be replaced with the vector  od its cluster affinities. If there are k clusters, then this vector is k-dimensional. This vector is typically much lower-dimensional than the original feature vector, but it can preserve enough information for further preprocessing.**"
   ]
  },
  {
   "cell_type": "code",
   "execution_count": 16,
   "id": "49b8d45a",
   "metadata": {},
   "outputs": [],
   "source": [
    "## let's create 3 clusters\n",
    "from sklearn.cluster import KMeans\n",
    "k = 3\n",
    "kmeans = KMeans(n_clusters=k)\n",
    "kmeans.fit(X_train)\n",
    "X_train_new = kmeans.transform(X_train)"
   ]
  },
  {
   "cell_type": "code",
   "execution_count": 18,
   "id": "54dd387f",
   "metadata": {
    "scrolled": true
   },
   "outputs": [
    {
     "data": {
      "text/plain": [
       "array([[3.35468965, 0.37538907, 4.76040299],\n",
       "       [2.33018382, 5.62314329, 0.95309663],\n",
       "       [0.60558515, 3.71828224, 1.61249258],\n",
       "       [3.52594878, 0.69305752, 4.87515014],\n",
       "       [0.81268339, 4.0849479 , 1.40144403],\n",
       "       [1.61985884, 2.2842889 , 3.16367318],\n",
       "       [3.17852363, 0.72459271, 4.52396057],\n",
       "       [0.90205882, 4.03160739, 1.09033388],\n",
       "       [0.65786008, 3.97333456, 0.97675246],\n",
       "       [3.44963609, 0.10448423, 4.91870009],\n",
       "       [3.40563669, 0.33392393, 4.90325111],\n",
       "       [2.99953304, 6.02770851, 1.59664109],\n",
       "       [3.66431419, 1.20331865, 5.21670829],\n",
       "       [0.58088815, 2.96236778, 2.09225324],\n",
       "       [3.35236652, 0.12961214, 4.80426913],\n",
       "       [3.35991949, 0.2468136 , 4.8286421 ],\n",
       "       [0.32988845, 3.5650723 , 1.35442983],\n",
       "       [0.47347147, 3.39520066, 1.56083929],\n",
       "       [0.81454132, 4.09939442, 0.99177144],\n",
       "       [1.6810817 , 4.86733161, 0.62111553],\n",
       "       [0.60211903, 2.84610764, 2.15651736],\n",
       "       [1.07961594, 4.48504435, 0.60551966],\n",
       "       [0.31547435, 3.31702904, 1.61127877],\n",
       "       [2.24690762, 5.53361699, 0.90417013],\n",
       "       [1.37053321, 4.60125039, 0.52432331],\n",
       "       [0.98700316, 4.22837466, 0.71939115],\n",
       "       [3.36742098, 0.45539822, 4.76195541],\n",
       "       [0.57383927, 3.57520537, 1.68384967],\n",
       "       [3.47586206, 0.48782761, 4.98328966],\n",
       "       [3.9793348 , 0.62758118, 5.42884023],\n",
       "       [3.18637921, 0.41484145, 4.62099671],\n",
       "       [3.4456563 , 0.40187708, 4.95033176],\n",
       "       [3.73630689, 0.63503535, 5.23604997],\n",
       "       [3.62940041, 0.76641212, 5.15588749],\n",
       "       [0.63629624, 4.0074606 , 1.15199342],\n",
       "       [1.14981834, 3.50558872, 2.22947687],\n",
       "       [0.67993732, 4.07370036, 0.94668859],\n",
       "       [0.5662922 , 3.94130158, 1.0363616 ],\n",
       "       [0.69079555, 3.81918985, 1.18088109],\n",
       "       [0.94289923, 2.81305348, 2.4069017 ],\n",
       "       [3.50928846, 0.21903374, 4.94079312],\n",
       "       [3.37611148, 0.44560522, 4.77062134],\n",
       "       [3.40563669, 0.33392393, 4.90325111],\n",
       "       [3.38024196, 0.06668108, 4.8384917 ],\n",
       "       [0.57058792, 3.24912285, 1.97278267],\n",
       "       [0.34369859, 3.6658647 , 1.29098957],\n",
       "       [1.72343313, 1.99374888, 3.26970976],\n",
       "       [1.46905708, 4.62522234, 0.68184671],\n",
       "       [1.06802943, 2.4380029 , 2.6165281 ],\n",
       "       [0.84632633, 4.15681997, 1.12119974],\n",
       "       [0.79999324, 3.01969601, 2.2926446 ],\n",
       "       [2.07593932, 5.30480131, 0.67961125],\n",
       "       [0.89429113, 4.1309135 , 1.3184814 ],\n",
       "       [0.92295701, 2.5298871 , 2.42955572],\n",
       "       [0.49835858, 3.03126442, 1.93719927],\n",
       "       [3.45963278, 0.16725961, 4.89783911],\n",
       "       [3.35714973, 0.52049683, 4.74223871],\n",
       "       [0.65962524, 3.58457142, 1.3910122 ],\n",
       "       [0.45365531, 3.04211216, 1.90768518],\n",
       "       [3.66767633, 1.04587673, 4.96309442],\n",
       "       [1.0904398 , 4.15788116, 0.92883853],\n",
       "       [0.61245854, 3.60192423, 1.29082117],\n",
       "       [3.41644292, 0.43559211, 4.80965082],\n",
       "       [3.71796248, 0.72011389, 5.23555173],\n",
       "       [1.94774488, 5.23908158, 0.40448805],\n",
       "       [1.8880871 , 5.11787863, 0.50917851],\n",
       "       [1.46549091, 4.84583258, 0.44443631],\n",
       "       [0.66541707, 3.49752508, 1.43273899],\n",
       "       [0.3372093 , 3.19121578, 1.72529825],\n",
       "       [3.31571149, 0.37928634, 4.81850168],\n",
       "       [1.20502374, 4.52681935, 1.00591822],\n",
       "       [3.1097728 , 0.48601551, 4.53878476],\n",
       "       [1.28560487, 4.65703508, 0.50489101],\n",
       "       [1.14200492, 4.00584564, 1.17238225],\n",
       "       [3.13709811, 0.8638351 , 4.46791968],\n",
       "       [3.61897305, 0.37460475, 5.11138135],\n",
       "       [3.46852805, 0.54425277, 4.87073356],\n",
       "       [1.18987526, 4.36682405, 1.13851626],\n",
       "       [1.71470748, 4.99832671, 0.35771275],\n",
       "       [0.17517665, 3.4939072 , 1.4451274 ],\n",
       "       [3.34799327, 0.2480024 , 4.77949899],\n",
       "       [1.98329966, 5.2870852 , 0.49576658],\n",
       "       [0.82616422, 3.09150247, 2.23823536],\n",
       "       [0.84205638, 3.90139936, 1.07386023],\n",
       "       [0.70479314, 3.7682543 , 1.12236248],\n",
       "       [3.56781327, 0.39672099, 5.04058763],\n",
       "       [1.6982175 , 4.95364149, 0.2324766 ],\n",
       "       [0.84632633, 4.15681997, 1.12119974],\n",
       "       [0.84467601, 4.23497752, 0.95764756],\n",
       "       [0.7910772 , 3.62130614, 1.38474677],\n",
       "       [1.86466242, 5.08790716, 0.69604608],\n",
       "       [1.5250584 , 4.83440846, 0.19145251],\n",
       "       [0.54919677, 3.76802014, 1.21266941],\n",
       "       [3.51567763, 0.45345654, 5.02538358],\n",
       "       [2.00464307, 5.25612018, 0.74405012],\n",
       "       [0.70479314, 2.95351822, 2.23191323],\n",
       "       [3.36451916, 0.37928634, 4.8600995 ],\n",
       "       [0.77518992, 2.81911113, 2.328958  ],\n",
       "       [1.11114371, 4.3371554 , 0.57570537],\n",
       "       [3.61196183, 0.3101791 , 5.08836287]])"
      ]
     },
     "execution_count": 18,
     "metadata": {},
     "output_type": "execute_result"
    }
   ],
   "source": [
    "X_train_new"
   ]
  },
  {
   "cell_type": "code",
   "execution_count": 19,
   "id": "ff25d801",
   "metadata": {},
   "outputs": [
    {
     "data": {
      "text/plain": [
       "RandomForestClassifier(max_depth=3, n_estimators=250, n_jobs=-1)"
      ]
     },
     "execution_count": 19,
     "metadata": {},
     "output_type": "execute_result"
    }
   ],
   "source": [
    "## now using these values as a new training set\n",
    "rfc_new = RandomForestClassifier(max_depth=3,n_jobs=-1,n_estimators=250)\n",
    "rfc_new.fit(X_train_new,y_train)"
   ]
  },
  {
   "cell_type": "code",
   "execution_count": 21,
   "id": "6f7a3af5",
   "metadata": {},
   "outputs": [],
   "source": [
    "rfc_new_predictions = rfc_new.predict(kmeans.transform(X_test))"
   ]
  },
  {
   "cell_type": "code",
   "execution_count": 22,
   "id": "c58146e5",
   "metadata": {},
   "outputs": [
    {
     "data": {
      "text/plain": [
       "array(['Iris-setosa', 'Iris-virginica', 'Iris-versicolor', 'Iris-setosa',\n",
       "       'Iris-versicolor', 'Iris-setosa', 'Iris-virginica', 'Iris-setosa',\n",
       "       'Iris-virginica', 'Iris-versicolor', 'Iris-setosa',\n",
       "       'Iris-versicolor', 'Iris-versicolor', 'Iris-versicolor',\n",
       "       'Iris-virginica', 'Iris-setosa', 'Iris-setosa', 'Iris-virginica',\n",
       "       'Iris-virginica', 'Iris-virginica', 'Iris-setosa',\n",
       "       'Iris-virginica', 'Iris-setosa', 'Iris-virginica',\n",
       "       'Iris-versicolor', 'Iris-virginica', 'Iris-virginica',\n",
       "       'Iris-versicolor', 'Iris-setosa', 'Iris-versicolor',\n",
       "       'Iris-virginica', 'Iris-setosa', 'Iris-setosa', 'Iris-setosa',\n",
       "       'Iris-setosa', 'Iris-virginica', 'Iris-setosa', 'Iris-virginica',\n",
       "       'Iris-versicolor', 'Iris-versicolor', 'Iris-virginica',\n",
       "       'Iris-virginica', 'Iris-versicolor', 'Iris-versicolor',\n",
       "       'Iris-virginica', 'Iris-virginica', 'Iris-setosa',\n",
       "       'Iris-versicolor', 'Iris-versicolor', 'Iris-versicolor'],\n",
       "      dtype=object)"
      ]
     },
     "execution_count": 22,
     "metadata": {},
     "output_type": "execute_result"
    }
   ],
   "source": [
    "rfc_new_predictions"
   ]
  },
  {
   "cell_type": "code",
   "execution_count": 25,
   "id": "b04fcf2f",
   "metadata": {},
   "outputs": [
    {
     "name": "stdout",
     "output_type": "stream",
     "text": [
      "Confusion Matrix for the model created after replacing feature vectors for instances with the affinity vector:\n",
      "\n"
     ]
    },
    {
     "data": {
      "text/plain": [
       "array([[16,  0,  0],\n",
       "       [ 0, 14,  1],\n",
       "       [ 0,  2, 17]], dtype=int64)"
      ]
     },
     "execution_count": 25,
     "metadata": {},
     "output_type": "execute_result"
    }
   ],
   "source": [
    "## checking the confusion matrix of the predictions after replacing feature vectors for instances with the affinity vector\n",
    "from sklearn.metrics import confusion_matrix\n",
    "\n",
    "print(\"Confusion Matrix for the model created after replacing feature vectors for instances with the affinity vector:\\n\")\n",
    "confusion_matrix(y_test,rfc_new_predictions, labels = df1['Species'].unique())"
   ]
  },
  {
   "cell_type": "markdown",
   "id": "cf9e0d82",
   "metadata": {},
   "source": [
    "**Here we can see that there are 2 more inaccurate predictions than before. This is due the fact that dimensionality reduction method losses some information. But still 2 inaccurate predictions is not bad**"
   ]
  },
  {
   "cell_type": "code",
   "execution_count": null,
   "id": "a5075554",
   "metadata": {},
   "outputs": [],
   "source": []
  }
 ],
 "metadata": {
  "kernelspec": {
   "display_name": "Python 3 (ipykernel)",
   "language": "python",
   "name": "python3"
  },
  "language_info": {
   "codemirror_mode": {
    "name": "ipython",
    "version": 3
   },
   "file_extension": ".py",
   "mimetype": "text/x-python",
   "name": "python",
   "nbconvert_exporter": "python",
   "pygments_lexer": "ipython3",
   "version": "3.9.7"
  }
 },
 "nbformat": 4,
 "nbformat_minor": 5
}
